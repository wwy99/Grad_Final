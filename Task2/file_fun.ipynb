{
  "nbformat": 4,
  "nbformat_minor": 0,
  "metadata": {
    "colab": {
      "provenance": []
    },
    "kernelspec": {
      "name": "python3",
      "display_name": "Python 3"
    },
    "language_info": {
      "name": "python"
    }
  },
  "cells": [
    {
      "cell_type": "code",
      "execution_count": 2,
      "metadata": {
        "id": "oKqNOcKJ5hTH"
      },
      "outputs": [],
      "source": [
        "import os\n",
        "\n",
        "def _extract(input):\n",
        "\n",
        "    parts = input.strip().split('_')\n",
        "    if len(parts) != 3:\n",
        "        raise ValueError(\"Invalid input format. Expected format: xxxxx_nnnnn_extension.\")\n",
        "    return f\"{parts[1]}.{parts[2]}\""
      ]
    },
    {
      "cell_type": "code",
      "source": [
        "print(_extract(\"35538_YLTRR_csv\"))"
      ],
      "metadata": {
        "colab": {
          "base_uri": "https://localhost:8080/"
        },
        "id": "WHtsPNy66nAK",
        "outputId": "265f0a25-63a0-42b0-ef3e-289c3f6ab563"
      },
      "execution_count": 3,
      "outputs": [
        {
          "output_type": "stream",
          "name": "stdout",
          "text": [
            "YLTRR.csv\n"
          ]
        }
      ]
    },
    {
      "cell_type": "code",
      "source": [
        "def read(file):\n",
        "\n",
        "    expanded_dir = 'expanded'\n",
        "    os.makedirs(expanded_dir, exist_ok=True)\n",
        "\n",
        "    with open(file, 'r') as file:\n",
        "        for line in file:\n",
        "\n",
        "            file_name = _extract(line)\n",
        "            number = line.strip().split('_')[0]\n",
        "            file = os.path.join(expanded_dir, file_name)\n",
        "\n",
        "            with open(file, 'w') as out_file:\n",
        "                out_file.write(number)"
      ],
      "metadata": {
        "id": "Z8nNakwT6JMF"
      },
      "execution_count": 9,
      "outputs": []
    },
    {
      "cell_type": "code",
      "source": [
        "path = '/content/codes.txt'\n",
        "read(path)"
      ],
      "metadata": {
        "id": "W1R-x9pM6mSc"
      },
      "execution_count": 10,
      "outputs": []
    },
    {
      "cell_type": "code",
      "source": [
        "path"
      ],
      "metadata": {
        "colab": {
          "base_uri": "https://localhost:8080/",
          "height": 35
        },
        "id": "aDPS3PeD7Ak4",
        "outputId": "8267fdf4-9be3-44a5-d501-145c1d94f3c5"
      },
      "execution_count": 11,
      "outputs": [
        {
          "output_type": "execute_result",
          "data": {
            "text/plain": [
              "'/content/codes.txt'"
            ],
            "application/vnd.google.colaboratory.intrinsic+json": {
              "type": "string"
            }
          },
          "metadata": {},
          "execution_count": 11
        }
      ]
    },
    {
      "cell_type": "code",
      "source": [],
      "metadata": {
        "id": "iWtBBCJI7IDV"
      },
      "execution_count": null,
      "outputs": []
    }
  ]
}